{
 "cells": [
  {
   "cell_type": "code",
   "execution_count": 8,
   "metadata": {},
   "outputs": [],
   "source": [
    "# Installs the necessary Python and system libraries\n",
    "try:\n",
    "    from easypip import easyimport, easyinstall, is_notebook\n",
    "except ModuleNotFoundError as e:\n",
    "    get_ipython().run_line_magic(\"pip\", \"install easypip\")\n",
    "    from easypip import easyimport, easyinstall, is_notebook\n",
    "\n",
    "easyinstall(\"bbrl>=0.2.2\")\n",
    "easyinstall(\"swig\")\n",
    "easyinstall(\"bbrl_gymnasium>=0.2.0\")\n",
    "easyinstall(\"bbrl_gymnasium[box2d]\")\n",
    "easyinstall(\"bbrl_gymnasium[classic_control]\")\n",
    "easyinstall(\"tensorboard\")\n",
    "easyinstall(\"moviepy\")\n",
    "easyinstall(\"box2d-kengz\")"
   ]
  },
  {
   "cell_type": "code",
   "execution_count": 9,
   "metadata": {},
   "outputs": [],
   "source": [
    "import os\n",
    "import sys\n",
    "from pathlib import Path\n",
    "import math\n",
    "\n",
    "from moviepy.editor import ipython_display as video_display\n",
    "import time\n",
    "from tqdm.auto import tqdm\n",
    "from typing import Tuple, Optional\n",
    "from functools import partial\n",
    "\n",
    "from omegaconf import OmegaConf\n",
    "import torch\n",
    "import bbrl_gymnasium\n",
    "\n",
    "import copy\n",
    "from abc import abstractmethod, ABC\n",
    "import torch.nn as nn\n",
    "import torch.nn.functional as F\n",
    "from time import strftime\n",
    "OmegaConf.register_new_resolver(\n",
    "    \"current_time\", lambda: strftime(\"%Y%m%d-%H%M%S\"), replace=True\n",
    ")\n",
    "from bbrl.agents.gymnasium import GymAgent, ParallelGymAgent, make_env, record_video"
   ]
  },
  {
   "cell_type": "code",
   "execution_count": 10,
   "metadata": {},
   "outputs": [
    {
     "name": "stdout",
     "output_type": "stream",
     "text": [
      "\n",
      " 2023-12-27 15:48:55 GMT\n",
      "OK.\n"
     ]
    }
   ],
   "source": [
    "from datetime import datetime\n",
    "from datetime import date\n",
    "\n",
    "import base64\n",
    "import glob\n",
    "import io\n",
    "import base64\n",
    "from IPython.display import HTML\n",
    "from IPython import display as ipythondisplay\n",
    "\n",
    "import gymnasium\n",
    "from gymnasium import logger as gymlogger\n",
    "# from gym.wrappers import Monitor # deprecated 2023 - https://stackoverflow.com/questions/71520568/importerror-cannot-import-name-monitor-from-gym-wrappers\n",
    "from gymnasium.wrappers.record_video import RecordVideo\n",
    "gymlogger.set_level(40) #error only\n",
    "import numpy as np\n",
    "import random\n",
    "import matplotlib\n",
    "import matplotlib.pyplot as plt\n",
    "%matplotlib inline\n",
    "import math\n",
    "import glob\n",
    "import io\n",
    "import base64\n",
    "from IPython.display import HTML\n",
    "\n",
    "print(\"\\n\",date.today(), datetime.now().strftime(\"%H:%M:%S\"),\"GMT\") # timestamp is greenwich time\n",
    "print(\"OK.\")\n",
    "\n",
    "def show_video(loop=True, num=0):\n",
    "    mp4list = glob.glob(f'videoTest/rl-video-episode-{num}.mp4')\n",
    "    if len(mp4list) > 0:\n",
    "        mp4 = mp4list[0]\n",
    "        video = io.open(mp4, 'r+b').read()\n",
    "        encoded = base64.b64encode(video)\n",
    "        if loop == True:\n",
    "            ipythondisplay.display(HTML(data='''<video alt=\"test\" autoplay \n",
    "                    loop controls style=\"height: 400px;\">\n",
    "                    <source src=\"data:videoTest/mp4;base64,{0}\" type=\"video/mp4\" />\n",
    "                 </video>'''.format(encoded.decode('ascii'))))\n",
    "        else:\n",
    "            ipythondisplay.display(HTML(data='''<video alt=\"test\" autoplay \n",
    "                    controls style=\"height: 400px;\">\n",
    "                    <source src=\"data:videoTest/mp4;base64,{0}\" type=\"video/mp4\" />\n",
    "                 </video>'''.format(encoded.decode('ascii'))))\n",
    "    else: \n",
    "        print(\"Could not find video\")\n",
    "    \n",
    "def wrap_env(env):\n",
    "    env = RecordVideo(env, './videoTest',  episode_trigger = lambda episode_number: True) # !!! 2023\n",
    "    env.reset() # !!! 2023\n",
    "    #env = Monitor(env, './video', force=True)\n",
    "    return env"
   ]
  },
  {
   "cell_type": "code",
   "execution_count": 11,
   "metadata": {},
   "outputs": [],
   "source": [
    "\"\"\"\n",
    "Continuous action version of the classic cart-pole system implemented by Rich\n",
    "Sutton et al.\n",
    "\"\"\"\n",
    "import math\n",
    "\n",
    "import numpy as np\n",
    "\n",
    "from gymnasium.envs.classic_control.cartpole import CartPoleEnv\n",
    "from gymnasium import logger, spaces\n",
    "from gymnasium.wrappers import TimeLimit\n",
    "\n",
    "import sys\n",
    "sys.modules[__name__]\n",
    "\n",
    "class ContinuousEnvCACLA(CartPoleEnv):\n",
    "    \"\"\"Continuous version  of the CartPole-v1 environment\"\"\"\n",
    "\n",
    "    def __init__(self, **kwargs):\n",
    "        super().__init__(**kwargs)\n",
    "        self.min_action = -1.0\n",
    "        self.max_action = 1.0\n",
    "        self.action_space = spaces.Box(\n",
    "            self.min_action, self.max_action, shape=(1,), dtype=np.float64\n",
    "        )\n",
    "\n",
    "    def step(self, action):\n",
    "        if action > self.max_action:\n",
    "            action = np.array(self.max_action)\n",
    "        elif action < self.min_action:\n",
    "            action = np.array(self.min_action)\n",
    "        assert self.state is not None, \"Call reset before using step method.\"\n",
    "\n",
    "        x, x_dot, theta, theta_dot = self.state\n",
    "        force = self.force_mag * float(action)\n",
    "\n",
    "        costheta = math.cos(theta)\n",
    "        sintheta = math.sin(theta)\n",
    "\n",
    "        # For the interested reader:\n",
    "        # https://coneural.org/florian/papers/05_cart_pole.pdf\n",
    "        temp = (\n",
    "            force + self.polemass_length * theta_dot**2 * sintheta\n",
    "        ) / self.total_mass\n",
    "        thetaacc = (self.gravity * sintheta - costheta * temp) / (\n",
    "            self.length * (4.0 / 3.0 - self.masspole * costheta**2 / self.total_mass)\n",
    "        )\n",
    "        xacc = temp - self.polemass_length * thetaacc * costheta / self.total_mass\n",
    "\n",
    "        if self.kinematics_integrator == \"euler\":\n",
    "            x = x + self.tau * x_dot\n",
    "            x_dot = x_dot + self.tau * xacc\n",
    "            theta = theta + self.tau * theta_dot\n",
    "            theta_dot = theta_dot + self.tau * thetaacc\n",
    "        else:  # semi-implicit euler\n",
    "            x_dot = x_dot + self.tau * xacc\n",
    "            x = x + self.tau * x_dot\n",
    "            theta_dot = theta_dot + self.tau * thetaacc\n",
    "            theta = theta + self.tau * theta_dot\n",
    "\n",
    "        self.state = (x, x_dot, theta, theta_dot)\n",
    "\n",
    "        terminated = bool(\n",
    "            x < -self.x_threshold\n",
    "            or x > self.x_threshold\n",
    "            or theta < -self.theta_threshold_radians\n",
    "            or theta > self.theta_threshold_radians\n",
    "        )\n",
    "\n",
    "        if not terminated:\n",
    "            reward = 1.0\n",
    "        elif self.steps_beyond_terminated is None:\n",
    "            # Pole just fell!\n",
    "            self.steps_beyond_terminated = 0\n",
    "            reward = -1.0\n",
    "        else:\n",
    "            if self.steps_beyond_terminated == 0:\n",
    "                logger.warn(\n",
    "                    \"You are calling 'step()' even though this \"\n",
    "                    \"environment has already returned terminated = True. You \"\n",
    "                    \"should always call 'reset()' once you receive 'terminated = \"\n",
    "                    \"True' -- any further steps are undefined behavior.\"\n",
    "                )\n",
    "            self.steps_beyond_terminated += 1\n",
    "            reward = 0\n",
    "\n",
    "        if self.render_mode == \"human\":\n",
    "            self.render()\n",
    "        return np.array(self.state, dtype=np.float32), reward, terminated, False, {}\n",
    "\n",
    "try:\n",
    "  gymnasium.envs.register(\n",
    "      id='CartpoleEnvCacla',\n",
    "      entry_point='__main__:ContinuousEnvCACLA',\n",
    "      max_episode_steps=500\n",
    "  )\n",
    "except:\n",
    "    print(\"Except\")\n",
    "    pass\n",
    "\n"
   ]
  },
  {
   "cell_type": "code",
   "execution_count": 38,
   "metadata": {},
   "outputs": [],
   "source": [
    "import torch.nn\n",
    "import numpy as np\n",
    "from torch.optim import SGD, Adam\n",
    "class Gav(nn.Module):\n",
    "    def __init__(self, in_dim, h_dim, activation=nn.Tanh, discount_factor=0.95, gaussian_noise=0.01, lrate = 0.01, decay=0.99):\n",
    "        super(Gav,self).__init__()\n",
    "        self.critic = nn.Sequential(\n",
    "            nn.Linear(in_dim+1, h_dim),\n",
    "            activation(),\n",
    "            nn.Linear(h_dim, 1)\n",
    "        )\n",
    "        self.critic_optim = SGD(self.critic.parameters(), lr=lrate)\n",
    "        \n",
    "        self.actor = nn.Sequential(\n",
    "            nn.Linear(in_dim, h_dim),\n",
    "            activation(),\n",
    "            nn.Linear(h_dim, 1),\n",
    "            activation()\n",
    "        )\n",
    "        self.actor_optim = SGD(self.actor.parameters(), lr=lrate)\n",
    "        \n",
    "        self.discount_factor = discount_factor\n",
    "        self.gaussian_noise = gaussian_noise\n",
    "        self.prob_update = 1\n",
    "        self.decay_rate = decay\n",
    "    \n",
    "    def forward(self, x, noise=False):\n",
    "        x = torch.from_numpy(x).unsqueeze(0)\n",
    "        # le critic prend aussi l'action\n",
    "        act = self.actor(x)\n",
    "        if noise: act = self.sample(act)\n",
    "        x = torch.hstack((x,act))\n",
    "        return self.critic(x), act\n",
    "    \n",
    "    def sample(self, x):\n",
    "        return (x + np.random.normal(0,self.gaussian_noise))\n",
    "    \n",
    "    def decay(self):\n",
    "        self.prob_update*= self.decay_rate\n",
    "        self.prob_update = max(0.01, self.prob_update)\n",
    "\n",
    "def test(eval_env, model, n_test = 10):\n",
    "    cum_reward = 0\n",
    "    with torch.no_grad():\n",
    "        for _ in range(n_test):\n",
    "            done, truncated = False, False\n",
    "            obs,_ = eval_env.reset()\n",
    "            while not done and not truncated:\n",
    "                _, a0 = model(obs)  \n",
    "                obs, reward, done,truncated,_ = eval_env.step(a0) \n",
    "                cum_reward += reward\n",
    "    return cum_reward/n_test\n",
    "    \n",
    "def train(eval_env, train_env, model, eval_interval=1000, step_max=100000):\n",
    "    it = 0\n",
    "    obs,_ = train_env.reset()\n",
    "    p = 1\n",
    "    while it < step_max:\n",
    "        it += 1\n",
    "        model.critic_optim.zero_grad()\n",
    "        model.actor_optim.zero_grad()     \n",
    "        q0, action = model(obs, noise=True) \n",
    "        obs, reward, done, truncated, reste = train_env.step(action) \n",
    "        reward = model.sample(reward)\n",
    "        q1, _ = model(obs,noise=True)\n",
    "        delta = reward + model.discount_factor*q1.detach() - q0\n",
    "        (delta**2).backward()\n",
    "        model.critic_optim.step()\n",
    "        if torch.rand(1) > model.prob_update: model.actor_optim.step()\n",
    "        model.decay()\n",
    "        \n",
    "        if done or truncated: obs,_ = train_env.reset()\n",
    "        if it % eval_interval == 0:\n",
    "            perf = test(eval_env, model)\n",
    "            print(f'{it = } | reward {perf}')"
   ]
  },
  {
   "cell_type": "code",
   "execution_count": 39,
   "metadata": {
    "scrolled": true
   },
   "outputs": [
    {
     "name": "stdout",
     "output_type": "stream",
     "text": [
      "it = 5000 | reward 7.4\n",
      "it = 10000 | reward 20.3\n",
      "it = 15000 | reward 9.5\n",
      "it = 20000 | reward 8.9\n",
      "it = 25000 | reward 97.6\n",
      "it = 30000 | reward 62.6\n",
      "it = 35000 | reward 55.1\n",
      "it = 40000 | reward 53.4\n",
      "it = 45000 | reward 63.0\n",
      "it = 50000 | reward 59.7\n",
      "it = 55000 | reward 64.0\n",
      "it = 60000 | reward 65.0\n",
      "it = 65000 | reward 65.4\n",
      "it = 70000 | reward 89.4\n",
      "it = 75000 | reward 100.0\n",
      "it = 80000 | reward 70.8\n",
      "it = 85000 | reward 62.8\n",
      "it = 90000 | reward 142.7\n",
      "it = 95000 | reward 53.5\n",
      "it = 100000 | reward 63.1\n"
     ]
    }
   ],
   "source": [
    "\n",
    "# Initialisation\n",
    "train_env = gymnasium.make('CartpoleEnvCacla')\n",
    "train_env = TimeLimit(train_env, max_episode_steps=500)\n",
    "eval_env = gymnasium.make('CartpoleEnvCacla')\n",
    "eval_env = TimeLimit(eval_env, max_episode_steps=500)\n",
    "\n",
    "gav = Gav(in_dim=4, h_dim=12, \n",
    "              discount_factor=0.95, \n",
    "              gaussian_noise=0.1)\n",
    "train(eval_env, train_env, gav, eval_interval=5000, step_max=102400)"
   ]
  },
  {
   "cell_type": "code",
   "execution_count": 40,
   "metadata": {},
   "outputs": [
    {
     "name": "stdout",
     "output_type": "stream",
     "text": [
      "Moviepy - Building video /Users/christian/Desktop/IAR/PROJET_IAR/ddpg_gav/videoTest/rl-video-episode-0.mp4.\n",
      "Moviepy - Writing video /Users/christian/Desktop/IAR/PROJET_IAR/ddpg_gav/videoTest/rl-video-episode-0.mp4\n",
      "\n"
     ]
    },
    {
     "name": "stderr",
     "output_type": "stream",
     "text": [
      "                                                                                \r"
     ]
    },
    {
     "name": "stdout",
     "output_type": "stream",
     "text": [
      "Moviepy - Done !\n",
      "Moviepy - video ready /Users/christian/Desktop/IAR/PROJET_IAR/ddpg_gav/videoTest/rl-video-episode-0.mp4\n",
      "Moviepy - Building video /Users/christian/Desktop/IAR/PROJET_IAR/ddpg_gav/videoTest/rl-video-episode-1.mp4.\n",
      "Moviepy - Writing video /Users/christian/Desktop/IAR/PROJET_IAR/ddpg_gav/videoTest/rl-video-episode-1.mp4\n",
      "\n"
     ]
    },
    {
     "name": "stderr",
     "output_type": "stream",
     "text": [
      "                                                                                "
     ]
    },
    {
     "name": "stdout",
     "output_type": "stream",
     "text": [
      "Moviepy - Done !\n",
      "Moviepy - video ready /Users/christian/Desktop/IAR/PROJET_IAR/ddpg_gav/videoTest/rl-video-episode-1.mp4\n"
     ]
    },
    {
     "name": "stderr",
     "output_type": "stream",
     "text": [
      "\r"
     ]
    },
    {
     "name": "stdout",
     "output_type": "stream",
     "text": [
      "Moviepy - Building video /Users/christian/Desktop/IAR/PROJET_IAR/ddpg_gav/videoTest/rl-video-episode-2.mp4.\n",
      "Moviepy - Writing video /Users/christian/Desktop/IAR/PROJET_IAR/ddpg_gav/videoTest/rl-video-episode-2.mp4\n",
      "\n"
     ]
    },
    {
     "name": "stderr",
     "output_type": "stream",
     "text": [
      "                                                                                \r"
     ]
    },
    {
     "name": "stdout",
     "output_type": "stream",
     "text": [
      "Moviepy - Done !\n",
      "Moviepy - video ready /Users/christian/Desktop/IAR/PROJET_IAR/ddpg_gav/videoTest/rl-video-episode-2.mp4\n"
     ]
    },
    {
     "data": {
      "text/plain": [
       "[118.0, 50.0]"
      ]
     },
     "execution_count": 40,
     "metadata": {},
     "output_type": "execute_result"
    }
   ],
   "source": [
    "rec_env = wrap_env(TimeLimit(ContinuousEnvCACLA(render_mode='rgb_array'),max_episode_steps=500))\n",
    "observation, _ = rec_env.reset()\n",
    "maxEvaluations = 2\n",
    "evaluation = 0\n",
    "score = []\n",
    "total = 0\n",
    "while evaluation < maxEvaluations:\n",
    "    rec_env.render()\n",
    "    _, a0 = gav(observation)  \n",
    "    action = a0\n",
    "    observation, reward, done, truncated, _ = rec_env.step(action) \n",
    "    total += reward\n",
    "    if done or truncated:\n",
    "      score.append(total)\n",
    "      total = 0\n",
    "      evaluation = evaluation + 1\n",
    "      observation, _ = rec_env.reset()\n",
    "rec_env.close()\n",
    "score"
   ]
  },
  {
   "cell_type": "code",
   "execution_count": 43,
   "metadata": {},
   "outputs": [
    {
     "data": {
      "text/html": [
       "<video alt=\"test\" autoplay \n",
       "                    loop controls style=\"height: 400px;\">\n",
       "                    <source src=\"data:videoTest/mp4;base64,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\" type=\"video/mp4\" />\n",
       "                 </video>"
      ],
      "text/plain": [
       "<IPython.core.display.HTML object>"
      ]
     },
     "metadata": {},
     "output_type": "display_data"
    }
   ],
   "source": [
    "show_video(num=0)"
   ]
  },
  {
   "cell_type": "code",
   "execution_count": null,
   "metadata": {},
   "outputs": [],
   "source": []
  }
 ],
 "metadata": {
  "kernelspec": {
   "display_name": "Python 3 (ipykernel)",
   "language": "python",
   "name": "python3"
  },
  "language_info": {
   "codemirror_mode": {
    "name": "ipython",
    "version": 3
   },
   "file_extension": ".py",
   "mimetype": "text/x-python",
   "name": "python",
   "nbconvert_exporter": "python",
   "pygments_lexer": "ipython3",
   "version": "3.9.7"
  }
 },
 "nbformat": 4,
 "nbformat_minor": 2
}
