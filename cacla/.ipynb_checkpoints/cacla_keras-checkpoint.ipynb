{
 "cells": [
  {
   "cell_type": "code",
   "execution_count": 16,
   "metadata": {},
   "outputs": [],
   "source": [
    "# Installs the necessary Python and system libraries\n",
    "try:\n",
    "    from easypip import easyimport, easyinstall, is_notebook\n",
    "except ModuleNotFoundError as e:\n",
    "    get_ipython().run_line_magic(\"pip\", \"install easypip\")\n",
    "    from easypip import easyimport, easyinstall, is_notebook\n",
    "\n",
    "easyinstall(\"bbrl>=0.2.2\")\n",
    "easyinstall(\"swig\")\n",
    "easyinstall(\"bbrl_gymnasium>=0.2.0\")\n",
    "easyinstall(\"bbrl_gymnasium[box2d]\")\n",
    "easyinstall(\"bbrl_gymnasium[classic_control]\")\n",
    "easyinstall(\"tensorboard\")\n",
    "easyinstall(\"moviepy\")\n",
    "easyinstall(\"box2d-kengz\")"
   ]
  },
  {
   "cell_type": "code",
   "execution_count": 25,
   "metadata": {},
   "outputs": [],
   "source": [
    "import os\n",
    "import sys\n",
    "from pathlib import Path\n",
    "import math\n",
    "\n",
    "from moviepy.editor import ipython_display as video_display\n",
    "import time\n",
    "from tqdm.auto import tqdm\n",
    "from typing import Tuple, Optional\n",
    "from functools import partial\n",
    "\n",
    "from omegaconf import OmegaConf\n",
    "import torch\n",
    "import bbrl_gymnasium\n",
    "import tensorflow as tf\n",
    "\n",
    "\n",
    "import copy\n",
    "from abc import abstractmethod, ABC\n",
    "import torch.nn as nn\n",
    "import torch.nn.functional as F\n",
    "from time import strftime\n",
    "OmegaConf.register_new_resolver(\n",
    "    \"current_time\", lambda: strftime(\"%Y%m%d-%H%M%S\"), replace=True\n",
    ")\n",
    "from bbrl.agents.gymnasium import GymAgent, ParallelGymAgent, make_env, record_video\n",
    "from gymnasium import logger, spaces\n",
    "from gymnasium.wrappers import TimeLimit\n",
    "from env import *"
   ]
  },
  {
   "cell_type": "code",
   "execution_count": 26,
   "metadata": {
    "scrolled": true
   },
   "outputs": [],
   "source": [
    "from torch.optim import SGD, Adam\n",
    "# Initialisation\n",
    "train_env = gymnasium.make('CartpoleEnvCacla')\n",
    "train_env = TimeLimit(train_env, max_episode_steps=500)\n",
    "eval_env = gymnasium.make('CartpoleEnvCacla')\n",
    "eval_env = TimeLimit(eval_env, max_episode_steps=500)"
   ]
  },
  {
   "cell_type": "code",
   "execution_count": 27,
   "metadata": {
    "scrolled": true
   },
   "outputs": [
    {
     "ename": "AttributeError",
     "evalue": "module 'tensorflow' has no attribute 'Session'",
     "output_type": "error",
     "traceback": [
      "\u001b[0;31m---------------------------------------------------------------------------\u001b[0m",
      "\u001b[0;31mAttributeError\u001b[0m                            Traceback (most recent call last)",
      "Cell \u001b[0;32mIn [27], line 6\u001b[0m\n\u001b[1;32m      4\u001b[0m \u001b[38;5;28;01mfrom\u001b[39;00m \u001b[38;5;21;01mdatetime\u001b[39;00m \u001b[38;5;28;01mimport\u001b[39;00m datetime\n\u001b[1;32m      5\u001b[0m \u001b[38;5;28;01mimport\u001b[39;00m \u001b[38;5;21;01mpickle\u001b[39;00m\n\u001b[0;32m----> 6\u001b[0m sess \u001b[38;5;241m=\u001b[39m \u001b[43mtf\u001b[49m\u001b[38;5;241;43m.\u001b[39;49m\u001b[43mSession\u001b[49m(config\u001b[38;5;241m=\u001b[39mtf\u001b[38;5;241m.\u001b[39mConfigProto(log_device_placement\u001b[38;5;241m=\u001b[39m\u001b[38;5;28;01mTrue\u001b[39;00m))\n\u001b[1;32m      9\u001b[0m \u001b[38;5;28;01mdef\u001b[39;00m \u001b[38;5;21mtest\u001b[39m(eval_env, model, n_test \u001b[38;5;241m=\u001b[39m \u001b[38;5;241m10\u001b[39m, noise_std \u001b[38;5;241m=\u001b[39m \u001b[38;5;241m0.3\u001b[39m):\n\u001b[1;32m     10\u001b[0m     cum_reward \u001b[38;5;241m=\u001b[39m \u001b[38;5;241m0\u001b[39m\n",
      "\u001b[0;31mAttributeError\u001b[0m: module 'tensorflow' has no attribute 'Session'"
     ]
    }
   ],
   "source": [
    "import numpy as np\n",
    "import time\n",
    "from cacla_keras import Cacla_Keras\n",
    "from datetime import datetime\n",
    "import pickle\n",
    "tf.debugging.set_log_device_placement(True)\n",
    "\n",
    "\n",
    "\n",
    "def test(eval_env, model, n_test = 10, noise_std = 0.3):\n",
    "    cum_reward = 0\n",
    "    with torch.no_grad():\n",
    "        for _ in range(n_test):\n",
    "            done = False\n",
    "            truncated = False\n",
    "            obs0,_ = eval_env.reset()\n",
    "            while not done and not truncated:\n",
    "                a0 = model.actor.predict(np.array([obs0]),verbose=0)\n",
    "                obs0, reward, done,truncated,_ = eval_env.step(a0[0]) \n",
    "                cum_reward += reward\n",
    "    return cum_reward/n_test\n",
    "\n",
    "def addnoise(x, std):\n",
    "    return x + np.random.normal(0,std)\n",
    "    \n",
    "def train(train_env, eval_env, model, step_max=102400, eval_step=1024,noise_std=0.3):\n",
    "    observation0 ,_ = train_env.reset()\n",
    "    count = 0\n",
    "    scores = []\n",
    "    for it in range(step_max+1):\n",
    "        # get current value of value function for observation0\n",
    "        V0 = model.critic.predict(np.array([observation0]),verbose=0)\n",
    "        # predict default action\n",
    "        A0 = model.actor.predict(np.array([observation0]),verbose=0)\n",
    "        # sample new explored action\n",
    "        a0 = model.sample(A0[0], model.exploration_factor)\n",
    "\n",
    "        observation1, reward, done, truncated, info = train_env.step(a0)\n",
    "\n",
    "        #get current value of value function for observation1 and compute delta.\n",
    "        V1 = model.critic.predict(np.array([observation1]),verbose=0)\n",
    "        delta = reward + model.gamma * V1 - V0\n",
    "\n",
    "        # fit critic\n",
    "        model.critic.fit(np.array([observation0]), [reward + model.gamma * V1], batch_size=1, verbose=0)\n",
    "\n",
    "        if delta > 0:\n",
    "            # if delta is positive, fit actor\n",
    "            model.actor.fit(np.array([observation0]), [a0], batch_size=1, verbose=0)\n",
    "            observation0 = observation1\n",
    "        if done or truncated: obs,_ = train_env.reset()\n",
    "        if it % (100*(1<<count)) == 0:\n",
    "            #if it % step_eval == 0:\n",
    "            count += 1\n",
    "            perf = test(eval_env, model, 3 , noise_std)\n",
    "            scores.append((it, perf))\n",
    "            print(f'{it = } | reward {perf}')\n",
    "\n",
    "cacla = Cacla_Keras(\n",
    "    input_dim = 4,\n",
    "    output_dim=1,\n",
    "    alpha=0.01,\n",
    "    beta=0.01,\n",
    "    gamma=0.9,\n",
    "    exploration_factor=0.3,\n",
    "    \n",
    ")\n",
    "train(train_env, eval_env, cacla)"
   ]
  },
  {
   "cell_type": "code",
   "execution_count": null,
   "metadata": {},
   "outputs": [],
   "source": []
  }
 ],
 "metadata": {
  "kernelspec": {
   "display_name": "Python 3 (ipykernel)",
   "language": "python",
   "name": "python3"
  },
  "language_info": {
   "codemirror_mode": {
    "name": "ipython",
    "version": 3
   },
   "file_extension": ".py",
   "mimetype": "text/x-python",
   "name": "python",
   "nbconvert_exporter": "python",
   "pygments_lexer": "ipython3",
   "version": "3.9.6"
  }
 },
 "nbformat": 4,
 "nbformat_minor": 4
}
